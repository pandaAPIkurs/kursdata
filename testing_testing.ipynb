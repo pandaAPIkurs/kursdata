{
 "cells": [
  {
   "cell_type": "code",
   "execution_count": 1,
   "id": "77faa0b9",
   "metadata": {},
   "outputs": [],
   "source": [
    "import requests # Bibliotek som håndterer spørringer\n",
    "import ast # Leser en tekstfil med spørringen til json format\n",
    "import os # Sets up folders and paths\n",
    "import json"
   ]
  },
  {
   "cell_type": "code",
   "execution_count": 6,
   "id": "77879ec1",
   "metadata": {},
   "outputs": [],
   "source": [
    "url = r'https://data.ssb.no/api/v0/no/table/07459'\n",
    "qjson = r'spørringer/07459.json'\n",
    "qtext = r\"spørringer/07459.txt\""
   ]
  },
  {
   "cell_type": "code",
   "execution_count": 20,
   "id": "1c2942d9",
   "metadata": {},
   "outputs": [],
   "source": [
    "with open(qtext, \"r\") as file:\n",
    "    json_query = ast.literal_eval(file.read())"
   ]
  },
  {
   "cell_type": "code",
   "execution_count": 16,
   "id": "0a2625c7",
   "metadata": {},
   "outputs": [],
   "source": [
    "with open(qjson) as jsonfile:  \n",
    "    json_query = json.load(jsonfile)"
   ]
  },
  {
   "cell_type": "code",
   "execution_count": 17,
   "id": "816f59a6",
   "metadata": {},
   "outputs": [],
   "source": [
    "x = requests.post(url, json=json_query)"
   ]
  },
  {
   "cell_type": "code",
   "execution_count": 21,
   "id": "f1154794",
   "metadata": {},
   "outputs": [
    {
     "data": {
      "text/plain": [
       "200"
      ]
     },
     "execution_count": 21,
     "metadata": {},
     "output_type": "execute_result"
    }
   ],
   "source": [
    "x.status_code"
   ]
  },
  {
   "cell_type": "code",
   "execution_count": 22,
   "id": "7c820b88",
   "metadata": {},
   "outputs": [
    {
     "data": {
      "text/plain": [
       "'\"region\",\"kjønn\",\"alder\",\"år\",\"statistikkvariabel\",\"07459: Befolkning,\"\\r\\n\"0 Hele landet\",\"Menn\",\"0-5 år\",\"2014\",\"Personer\",192876\\r\\n\"0 Hele landet\",\"Menn\",\"0-5 år\",\"2021\",\"Personer\",176875\\r\\n\"0 Hele landet\",\"Menn\",\"16-66 år\",\"2014\",\"Personer\",1749566\\r\\n\"0 Hele landet\",\"Menn\",\"16-66 år\",\"2021\",\"Personer\",1820557\\r\\n\"0 Hele landet\",\"Menn\",\"67 år eller eldre\",\"2014\",\"Personer\",308926\\r\\n\"0 Hele landet\",\"Menn\",\"67 år eller eldre\",\"2021\",\"Personer\",393123\\r\\n\"0 Hele landet\",\"Kvinner\",\"0-5 år\",\"2014\",\"Personer\",182868\\r\\n\"0 Hele landet\",\"Kvinner\",\"0-5 år\",\"2021\",\"Personer\",166889\\r\\n\"0 Hele landet\",\"Kvinner\",\"16-66 år\",\"2014\",\"Personer\",1666907\\r\\n\"0 Hele landet\",\"Kvinner\",\"16-66 år\",\"2021\",\"Personer\",1736308\\r\\n\"0 Hele landet\",\"Kvinner\",\"67 år eller eldre\",\"2014\",\"Personer\",389796\\r\\n\"0 Hele landet\",\"Kvinner\",\"67 år eller eldre\",\"2021\",\"Personer\",456534\\r\\n\"30 Viken\",\"Menn\",\"0-5 år\",\"2014\",\"Personer\",0\\r\\n\"30 Viken\",\"Menn\",\"0-5 år\",\"2021\",\"Personer\",41378\\r\\n\"30 Viken\",\"Menn\",\"16-66 år\",\"2014\",\"Personer\",0\\r\\n\"30 Viken\",\"Menn\",\"16-66 år\",\"2021\",\"Personer\",416964\\r\\n\"30 Viken\",\"Menn\",\"67 år eller eldre\",\"2014\",\"Personer\",0\\r\\n\"30 Viken\",\"Menn\",\"67 år eller eldre\",\"2021\",\"Personer\",90306\\r\\n\"30 Viken\",\"Kvinner\",\"0-5 år\",\"2014\",\"Personer\",0\\r\\n\"30 Viken\",\"Kvinner\",\"0-5 år\",\"2021\",\"Personer\",39066\\r\\n\"30 Viken\",\"Kvinner\",\"16-66 år\",\"2014\",\"Personer\",0\\r\\n\"30 Viken\",\"Kvinner\",\"16-66 år\",\"2021\",\"Personer\",400318\\r\\n\"30 Viken\",\"Kvinner\",\"67 år eller eldre\",\"2014\",\"Personer\",0\\r\\n\"30 Viken\",\"Kvinner\",\"67 år eller eldre\",\"2021\",\"Personer\",106898\\r\\n'"
      ]
     },
     "execution_count": 22,
     "metadata": {},
     "output_type": "execute_result"
    }
   ],
   "source": [
    "x.text"
   ]
  },
  {
   "cell_type": "code",
   "execution_count": 23,
   "id": "9199c9cc",
   "metadata": {},
   "outputs": [
    {
     "name": "stdout",
     "output_type": "stream",
     "text": [
      "Skriver 07459JSONtest.csv til datalager\n"
     ]
    }
   ],
   "source": [
    "print(\"Skriver {}.csv til datalager\".format('07459JSONtest'))\n",
    "# Skriv innhold til csv fil (teams)\n",
    "with open('07459_1.csv', 'wb') as fd:\n",
    "    for chunk in x.iter_content(chunk_size=128):\n",
    "        fd.write(chunk)"
   ]
  },
  {
   "cell_type": "code",
   "execution_count": null,
   "id": "e8bfcc8a",
   "metadata": {},
   "outputs": [],
   "source": []
  }
 ],
 "metadata": {
  "kernelspec": {
   "display_name": "Python 3",
   "language": "python",
   "name": "python3"
  },
  "language_info": {
   "codemirror_mode": {
    "name": "ipython",
    "version": 3
   },
   "file_extension": ".py",
   "mimetype": "text/x-python",
   "name": "python",
   "nbconvert_exporter": "python",
   "pygments_lexer": "ipython3",
   "version": "3.9.6"
  }
 },
 "nbformat": 4,
 "nbformat_minor": 5
}
