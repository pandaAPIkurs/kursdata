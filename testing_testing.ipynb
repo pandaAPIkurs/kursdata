{
 "cells": [
  {
   "cell_type": "code",
   "execution_count": 1,
   "id": "77faa0b9",
   "metadata": {},
   "outputs": [],
   "source": [
    "import requests # Bibliotek som håndterer spørringer\n",
    "import ast # Leser en tekstfil med spørringen til json format\n",
    "import os # Sets up folders and paths\n",
    "import json\n",
    "from pyjstat import pyjstat"
   ]
  },
  {
   "cell_type": "code",
   "execution_count": 2,
   "id": "77879ec1",
   "metadata": {},
   "outputs": [],
   "source": [
    "url = r'https://data.ssb.no/api/v0/no/table/07459'\n",
    "qjson = r'spørringer/temp.json'\n",
    "qtext = r\"spørringer/07459.txt\""
   ]
  },
  {
   "cell_type": "code",
   "execution_count": null,
   "id": "1c2942d9",
   "metadata": {},
   "outputs": [],
   "source": [
    "with open(qtext, \"r\") as file:\n",
    "    json_query = ast.literal_eval(file.read())"
   ]
  },
  {
   "cell_type": "code",
   "execution_count": 6,
   "id": "0a2625c7",
   "metadata": {},
   "outputs": [],
   "source": [
    "with open(qjson) as jsonfile:  \n",
    "    json_query = json.load(jsonfile)"
   ]
  },
  {
   "cell_type": "code",
   "execution_count": 7,
   "id": "816f59a6",
   "metadata": {},
   "outputs": [],
   "source": [
    "x = requests.post(url, json=json_query)"
   ]
  },
  {
   "cell_type": "code",
   "execution_count": 8,
   "id": "f1154794",
   "metadata": {},
   "outputs": [
    {
     "data": {
      "text/plain": [
       "400"
      ]
     },
     "execution_count": 8,
     "metadata": {},
     "output_type": "execute_result"
    }
   ],
   "source": [
    "x.status_code"
   ]
  },
  {
   "cell_type": "code",
   "execution_count": null,
   "id": "c9cdb26f",
   "metadata": {},
   "outputs": [],
   "source": [
    "x.text"
   ]
  },
  {
   "cell_type": "code",
   "execution_count": null,
   "id": "fa3ac258",
   "metadata": {},
   "outputs": [],
   "source": [
    "# Les til json-stat2 format fra spørring\n",
    "ds = pyjstat.Dataset.read(x.text)"
   ]
  },
  {
   "cell_type": "code",
   "execution_count": null,
   "id": "34a6989c",
   "metadata": {},
   "outputs": [],
   "source": [
    "df = ds.write('dataframe')"
   ]
  },
  {
   "cell_type": "code",
   "execution_count": null,
   "id": "8b10b7d2",
   "metadata": {},
   "outputs": [],
   "source": [
    "df.head()"
   ]
  },
  {
   "cell_type": "code",
   "execution_count": null,
   "id": "9199c9cc",
   "metadata": {},
   "outputs": [],
   "source": [
    "print(\"Skriver {}.csv til datalager\".format('07459JSONtest'))\n",
    "# Skriv innhold til csv fil (teams)\n",
    "with open('07459_1.csv', 'wb') as fd:\n",
    "    for chunk in x.iter_content(chunk_size=128):\n",
    "        fd.write(chunk)"
   ]
  },
  {
   "cell_type": "code",
   "execution_count": null,
   "id": "e8bfcc8a",
   "metadata": {},
   "outputs": [],
   "source": []
  }
 ],
 "metadata": {
  "kernelspec": {
   "display_name": "Python 3",
   "language": "python",
   "name": "python3"
  },
  "language_info": {
   "codemirror_mode": {
    "name": "ipython",
    "version": 3
   },
   "file_extension": ".py",
   "mimetype": "text/x-python",
   "name": "python",
   "nbconvert_exporter": "python",
   "pygments_lexer": "ipython3",
   "version": "3.9.6"
  }
 },
 "nbformat": 4,
 "nbformat_minor": 5
}
