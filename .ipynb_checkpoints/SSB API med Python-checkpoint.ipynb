{
 "cells": [
  {
   "cell_type": "markdown",
   "id": "538088cf",
   "metadata": {},
   "source": [
    "# Introduksjon\n",
    "\n",
    "I denne delen av kurset bruker vi Python for å utveksle informasjon med SSBs API. Python er et meget nyttig språk for datahåndtering og automatisering av dataflyt. Særlig hvis man skal innom flere programmer med dataene kan python være en fordel. Jupyter notebooks er et veldig nyttig verktøy for å lære seg arbeidsflyten i en slik prosess. Gå gjerne igjennom *en kort introduksjon til Jupyter* før du starter her.\n",
    "\n",
    "## Installere python\n",
    "\n",
    "Python består av mange ulike forhåndsprogrammerte funksjoner som brukere kan sette sammen slik de ønsker for å dekke sine behov. Disse funksjonene er gjerne samlet i biblioteker som enten er med i grunnpakken til Python ([python.org](https://www.python.org/)) eller i andre installasjoner som for eksempel [miniconda](https://docs.conda.io/en/latest/miniconda.html) eller [Anaconda](https://www.anaconda.com/). \n",
    "\n",
    "Mange velger å bruke Anaconda siden det stort sett sikrer at alt virker når man oppdaterer programvaren. Jeg liker å bruke miniconda - det er en lettvektsversjon av anaconda som tar mindre plass, men krever litt mer av brukeren."
   ]
  },
  {
   "cell_type": "markdown",
   "id": "f5c08f97",
   "metadata": {},
   "source": [
    "## Steg 1\n",
    "\n",
    "Først må vi importere de modeulene vi må ha tilgang til. I dette tilfellet trenger vi biblioteket som håndterer kommunikasjonen mot APIet (`requests`) og vi trenger å lagre teksten fra spørringsfilen i rett format (`ast`). Den siste modulen (`pyjstat`) håndterer jstat formatet. Det er ikke nødvendig å bruke her, men lenger nede vises det hvordan vi kan laste fra en jstat fil rett inn i en dataframe for de som ønsker å behandle data videre i Python.\n",
    "\n",
    "Gå til neste celle og trykk shift + enter for å kjøre cellen (og slik gjøre tilgjengelig de modulene vi skal bruke videre i denne arbeidsflyten).\n"
   ]
  },
  {
   "cell_type": "code",
   "execution_count": null,
   "id": "5c3816e5",
   "metadata": {},
   "outputs": [],
   "source": [
    "import requests # Bibliotek som håndterer spørringer\n",
    "import ast # Leser en tekstfil med spørringen til riktig format (json)\n",
    "\n",
    "from pyjstat import pyjstat # Håndterer jstat data"
   ]
  },
  {
   "cell_type": "markdown",
   "id": "5d2cc451",
   "metadata": {},
   "source": [
    "## Steg 2\n",
    "\n",
    "Etter å ha importert de nødvendige modulene skal vi sette opp spørringen. Da trenger vi URL til SSB sitt API for den aktuelle tabellen. For enkelhets skyld så lagrer vi den som en variabel. Da trenger vi bare endre variablene senere for å kjøre programmet igjen med nye tabeller.\n",
    "\n",
    "I dette kurset skal vi bare sende én spørring om gangen. Med noen grep kan dette settes opp for å gå igjennom en rekke spørringer for å vedlikeholde ett oppdatert fillager. Mer om dette på Hurdalssjøen.\n",
    "\n",
    "**Husk at om du skal hente data med en annen spørring må man endre både *query*-variabelen og de siste fem tallene i *url*-variabelen**\n",
    "\n",
    "**Cellen må så kjøres på nytt for å oppdatere variablene**"
   ]
  },
  {
   "cell_type": "code",
   "execution_count": null,
   "id": "a1fa3223",
   "metadata": {},
   "outputs": [],
   "source": [
    "# URL med tabellnummer\n",
    "url = r'https://data.ssb.no/api/v0/no/table/07459'\n",
    "\n",
    "# Lenke til spørring - mer\n",
    "query = r\"spørringer/07459.txt\""
   ]
  },
  {
   "cell_type": "markdown",
   "id": "26196b64",
   "metadata": {},
   "source": [
    "For at `requests` modulen skal kunne sette opp sprørringen, må vi laste spørringen fra teksten inn i en variabel. I `with open(query, \"r\")` er det viktig at `query` er lenken til spørringen i forrige celle. Bokstaven `\"r\"` betyr at det kun er lov å lese teksten, ikke skrive over. Den lille kodesnutten under lagrer nå spørringen i variabelen `json_query` og det er denne vi skal sende til SSB med `requests` modulen."
   ]
  },
  {
   "cell_type": "code",
   "execution_count": null,
   "id": "af167541",
   "metadata": {},
   "outputs": [],
   "source": [
    "with open(query, \"r\") as file:\n",
    "    json_query = ast.literal_eval(file.read())"
   ]
  },
  {
   "cell_type": "markdown",
   "id": "c31ca503",
   "metadata": {},
   "source": [
    "Da skal alt være klart for å sende avgårde spørringen til SSB. Naviger til neste celle og kjør spørringen. Husk å vente til det står et tall i `In []` - det betyr at utveksling av data er ferdig."
   ]
  },
  {
   "cell_type": "code",
   "execution_count": null,
   "id": "33f6e708",
   "metadata": {},
   "outputs": [],
   "source": [
    "x = requests.post(url, json=json_query)"
   ]
  },
  {
   "cell_type": "markdown",
   "id": "b56c8c73",
   "metadata": {},
   "source": [
    "Nå vi har sendt spørringen kan vi sjekke status. Responsen består av mer enn bare data. Det er også informasjon om selve transaksjonen. En viktig ting er statuskoden.\n",
    "\n",
    "Status koder 2xx betyr vanligvis at alt har gått fint. 4xx betyr at det er en feil på klientsiden (vi har gjort en feil). Det kan for eksempel være syntaksfeil i spørringen (et glemt komma for eksempel). 5xx betyr at det er en feil på serversiden (altså at det er et problem på leverandørsiden). For mer informasjon om statuskoder kan du lese [her](https://developer.mozilla.org/en-US/docs/Web/HTTP/Status)\n",
    "\n",
    "Naviger til neste celle og kjør den for å sjekke status."
   ]
  },
  {
   "cell_type": "code",
   "execution_count": null,
   "id": "077f7f7d",
   "metadata": {},
   "outputs": [],
   "source": [
    "x.status_code"
   ]
  },
  {
   "cell_type": "markdown",
   "id": "7817cd31",
   "metadata": {},
   "source": [
    "Vi kan også se hva som står i respons body, altså se den teksten vi fikk i svar på spørringen. Denne teksten kan variere etter hvilket respons format vi har etterspurt i spørringen. Det er mulig å endre spørringen i venstre kolonne. Kjør den neste cellen. Ikke særlig nyttig - men vi kan få en ide om hva vi har fått tilbake. `\\n\\r`karakterene her er kodene for linjeskift i tekstfilen som vi har etterspurt. Det vil si at når vi skriver det til en fil, vil det skiftes linje hver gang det står `\\r\\n`."
   ]
  },
  {
   "cell_type": "code",
   "execution_count": null,
   "id": "455a7c1e",
   "metadata": {},
   "outputs": [],
   "source": [
    "x.text"
   ]
  },
  {
   "cell_type": "markdown",
   "id": "ccb270db",
   "metadata": {},
   "source": [
    "## Steg 3\n",
    "\n",
    "Til slutt vil vi gjerne lagre filen i vårt fillager. Da bruker vi metoden `response.iter_content()` som går igjennom responsteksten uten å bruke for mye minne. Dette skrives så til en .csv fil (ettersom det er det vi har i spørringen).\n",
    "\n",
    "I første omgang skriver vi det enkelt til en .csv fil."
   ]
  },
  {
   "cell_type": "code",
   "execution_count": null,
   "id": "53cd0d5d",
   "metadata": {},
   "outputs": [],
   "source": [
    "with open(r'data/07459.csv', 'wb') as fd:\n",
    "    for chunk in x.iter_content(chunk_size=128):\n",
    "        fd.write(chunk)"
   ]
  },
  {
   "cell_type": "markdown",
   "id": "5f2dba19",
   "metadata": {},
   "source": [
    "Hvis du er i nettversjonen av dette programmet vil du nå finne filen i mappen som heter *data* på venstre side. Hvis du er på egen maskin, så legger den seg i data mappen i den mappen du har kjørt skriptet fra. Hvis du ikke har en data mappe må du opprette en."
   ]
  },
  {
   "cell_type": "markdown",
   "id": "acea2474",
   "metadata": {},
   "source": [
    "## Ekstramateriale\n",
    "\n",
    "I de neste cellene skal vi skrive responsen til en pandas dataframe (pandas importeres sammen med pyjstat modulen). Her er det ikke like godt dokumentert, men det er mulig å kjøre igjennom og se litt på resultatene. \n",
    "\n",
    "Her er det viktig at spørringen ber om \"json-stat2\" respons format. Det ligger eksempler klare i *spørringer*-mappen. Disse kan dupliseres og endres slik man vil (høyreklikk og \"dupliser\")"
   ]
  },
  {
   "cell_type": "code",
   "execution_count": null,
   "id": "fbde9b01-8e6a-4e3c-8bae-8c81bfb2a042",
   "metadata": {},
   "outputs": [],
   "source": [
    "# URL med tabellnummer\n",
    "url = r'https://data.ssb.no/api/v0/no/table/07459'\n",
    "\n",
    "# Lenke til spørring - mer\n",
    "query = r\"spørringer/07459_json.txt\""
   ]
  },
  {
   "cell_type": "markdown",
   "id": "71c33303-5aad-4db7-a1ba-bedf061083d7",
   "metadata": {},
   "source": [
    "Siden vi nå har lastet en annen spørring inn i *query* variabelen, må vi igjen lagre den i rett format."
   ]
  },
  {
   "cell_type": "code",
   "execution_count": null,
   "id": "79ea2251-ba0e-44d0-83a6-7a4855d129c7",
   "metadata": {},
   "outputs": [],
   "source": [
    "with open(query, \"r\") as file:\n",
    "    json_query = ast.literal_eval(file.read())"
   ]
  },
  {
   "cell_type": "markdown",
   "id": "3b8a9d01-c45f-48af-85cc-5833fdc70748",
   "metadata": {},
   "source": [
    "Spørringen sendes som før."
   ]
  },
  {
   "cell_type": "code",
   "execution_count": null,
   "id": "19e262ea-27c0-43df-9ce6-02395905793c",
   "metadata": {},
   "outputs": [],
   "source": [
    "x = requests.post(url, json=json_query)"
   ]
  },
  {
   "cell_type": "markdown",
   "id": "fb386872-7d27-42b1-abb3-a542e3465024",
   "metadata": {},
   "source": [
    "Vi kan sjekke status når forrige celle er ferdig:"
   ]
  },
  {
   "cell_type": "code",
   "execution_count": null,
   "id": "0001d27f-5802-4c20-aa2b-19e913adf9c4",
   "metadata": {},
   "outputs": [],
   "source": [
    "x.status_code"
   ]
  },
  {
   "cell_type": "markdown",
   "id": "a88e7155-af82-4622-9b92-d0c31d75b734",
   "metadata": {},
   "source": [
    "Så bruker vi pyjstat til å lese responsen inn i et dataset før vi kan laste det inn i en pandas dataframe."
   ]
  },
  {
   "cell_type": "code",
   "execution_count": null,
   "id": "4a07d4c5",
   "metadata": {},
   "outputs": [],
   "source": [
    "# Les til json-stat2 format fra spørring\n",
    "ds = pyjstat.Dataset.read(x.text)"
   ]
  },
  {
   "cell_type": "markdown",
   "id": "9355b099-0d32-46b8-ad18-70a76ecc5645",
   "metadata": {},
   "source": [
    "Vi oppretter en dataframe med datasettet vårt:"
   ]
  },
  {
   "cell_type": "code",
   "execution_count": null,
   "id": "73a1a9aa",
   "metadata": {},
   "outputs": [],
   "source": [
    "df = ds.write('dataframe')"
   ]
  },
  {
   "cell_type": "markdown",
   "id": "14d24251-738d-44ef-a275-7fe527d5adfe",
   "metadata": {},
   "source": [
    "Vi kan se kjapt på dataene. `df.head(n)` viser de *n* øverste radene. `df.tail(n)` viser de *n* siste radene."
   ]
  },
  {
   "cell_type": "code",
   "execution_count": null,
   "id": "9aa9ca04",
   "metadata": {},
   "outputs": [],
   "source": [
    "df.head(5)"
   ]
  },
  {
   "cell_type": "code",
   "execution_count": null,
   "id": "91734a13-138f-4220-bd41-3c8d38f4e544",
   "metadata": {},
   "outputs": [],
   "source": [
    "df.tail(10)"
   ]
  },
  {
   "cell_type": "markdown",
   "id": "0bdbbb08-e81d-47ae-a9c9-ad52a886a0b5",
   "metadata": {},
   "source": [
    "Med `df.iloc[start:stopp]` kan vi vise radene mellom *start* og *stopp*"
   ]
  },
  {
   "cell_type": "code",
   "execution_count": null,
   "id": "c67e8e03-bae7-4749-990b-5c2dbd8cf9fa",
   "metadata": {
    "tags": []
   },
   "outputs": [],
   "source": [
    "df.iloc[10:30]"
   ]
  },
  {
   "cell_type": "markdown",
   "id": "3f3a080f-52d1-4500-a44b-ef3436c25894",
   "metadata": {},
   "source": [
    "Herfra er det bare å utforske videre. Nettet er spekket med opplæringsmateriell for pandas!"
   ]
  }
 ],
 "metadata": {
  "kernelspec": {
   "display_name": "Python 3",
   "language": "python",
   "name": "python3"
  },
  "language_info": {
   "codemirror_mode": {
    "name": "ipython",
    "version": 3
   },
   "file_extension": ".py",
   "mimetype": "text/x-python",
   "name": "python",
   "nbconvert_exporter": "python",
   "pygments_lexer": "ipython3",
   "version": "3.9.6"
  }
 },
 "nbformat": 4,
 "nbformat_minor": 5
}
