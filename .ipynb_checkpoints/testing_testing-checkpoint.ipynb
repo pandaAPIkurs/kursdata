{
 "cells": [
  {
   "cell_type": "code",
   "execution_count": 2,
   "id": "77faa0b9",
   "metadata": {},
   "outputs": [],
   "source": [
    "import requests # Bibliotek som håndterer spørringer\n",
    "import ast # Leser en tekstfil med spørringen til json format\n",
    "import os # Sets up folders and paths\n",
    "import json"
   ]
  },
  {
   "cell_type": "code",
   "execution_count": 3,
   "id": "77879ec1",
   "metadata": {},
   "outputs": [],
   "source": [
    "url = r'https://data.ssb.no/api/v0/no/table/07459'\n",
    "qjson = r'spørringer/ssbapi_table_07459.json'\n",
    "qtext = r\"spørringer/ssbapi_table_07459.txt\""
   ]
  },
  {
   "cell_type": "code",
   "execution_count": 4,
   "id": "1c2942d9",
   "metadata": {},
   "outputs": [],
   "source": [
    "with open(qtext, \"r\") as file:\n",
    "    #contents = file.read()\n",
    "    json_query = ast.literal_eval(file.read())"
   ]
  },
  {
   "cell_type": "code",
   "execution_count": null,
   "id": "0a2625c7",
   "metadata": {},
   "outputs": [],
   "source": [
    "with open(query) as jsonfile:  \n",
    "    json_query = json.load(jsonfile)"
   ]
  },
  {
   "cell_type": "code",
   "execution_count": 5,
   "id": "816f59a6",
   "metadata": {},
   "outputs": [],
   "source": [
    "x = requests.post(url, json=json_query)"
   ]
  },
  {
   "cell_type": "code",
   "execution_count": 6,
   "id": "f1154794",
   "metadata": {},
   "outputs": [
    {
     "data": {
      "text/plain": [
       "200"
      ]
     },
     "execution_count": 6,
     "metadata": {},
     "output_type": "execute_result"
    }
   ],
   "source": [
    "x.status_code"
   ]
  },
  {
   "cell_type": "code",
   "execution_count": 7,
   "id": "888debad",
   "metadata": {},
   "outputs": [
    {
     "data": {
      "text/plain": [
       "'\"region\",\"kjønn\",\"alder\",\"år\",\"statistikkvariabel\",\"07459: Befolkning,\"\\r\\n\"4601 Bergen\",\"Menn\",\"0-17 år\",\"2019\",\"Personer\",0\\r\\n\"4601 Bergen\",\"Menn\",\"0-17 år\",\"2020\",\"Personer\",28735\\r\\n\"4601 Bergen\",\"Menn\",\"0-17 år\",\"2021\",\"Personer\",28683\\r\\n\"4601 Bergen\",\"Menn\",\"18 år eller eldre\",\"2019\",\"Personer\",0\\r\\n\"4601 Bergen\",\"Menn\",\"18 år eller eldre\",\"2020\",\"Personer\",114136\\r\\n\"4601 Bergen\",\"Menn\",\"18 år eller eldre\",\"2021\",\"Personer\",115067\\r\\n\"4601 Bergen\",\"Kvinner\",\"0-17 år\",\"2019\",\"Personer\",0\\r\\n\"4601 Bergen\",\"Kvinner\",\"0-17 år\",\"2020\",\"Personer\",27391\\r\\n\"4601 Bergen\",\"Kvinner\",\"0-17 år\",\"2021\",\"Personer\",27282\\r\\n\"4601 Bergen\",\"Kvinner\",\"18 år eller eldre\",\"2019\",\"Personer\",0\\r\\n\"4601 Bergen\",\"Kvinner\",\"18 år eller eldre\",\"2020\",\"Personer\",113667\\r\\n\"4601 Bergen\",\"Kvinner\",\"18 år eller eldre\",\"2021\",\"Personer\",114569\\r\\n\"4602 Kinn\",\"Menn\",\"0-17 år\",\"2019\",\"Personer\",0\\r\\n\"4602 Kinn\",\"Menn\",\"0-17 år\",\"2020\",\"Personer\",1915\\r\\n\"4602 Kinn\",\"Menn\",\"0-17 år\",\"2021\",\"Personer\",1871\\r\\n\"4602 Kinn\",\"Menn\",\"18 år eller eldre\",\"2019\",\"Personer\",0\\r\\n\"4602 Kinn\",\"Menn\",\"18 år eller eldre\",\"2020\",\"Personer\",6920\\r\\n\"4602 Kinn\",\"Menn\",\"18 år eller eldre\",\"2021\",\"Personer\",6938\\r\\n\"4602 Kinn\",\"Kvinner\",\"0-17 år\",\"2019\",\"Personer\",0\\r\\n\"4602 Kinn\",\"Kvinner\",\"0-17 år\",\"2020\",\"Personer\",1847\\r\\n\"4602 Kinn\",\"Kvinner\",\"0-17 år\",\"2021\",\"Personer\",1807\\r\\n\"4602 Kinn\",\"Kvinner\",\"18 år eller eldre\",\"2019\",\"Personer\",0\\r\\n\"4602 Kinn\",\"Kvinner\",\"18 år eller eldre\",\"2020\",\"Personer\",6525\\r\\n\"4602 Kinn\",\"Kvinner\",\"18 år eller eldre\",\"2021\",\"Personer\",6544\\r\\n'"
      ]
     },
     "execution_count": 7,
     "metadata": {},
     "output_type": "execute_result"
    }
   ],
   "source": [
    "x.text"
   ]
  },
  {
   "cell_type": "code",
   "execution_count": null,
   "id": "9199c9cc",
   "metadata": {},
   "outputs": [],
   "source": [
    "print(\"Skriver {}.csv til datalager\".format('07459JSONtest'))\n",
    "# Skriv innhold til csv fil (teams)\n",
    "with open('07459_1.csv', 'wb') as fd:\n",
    "    for chunk in x.iter_content(chunk_size=128):\n",
    "        fd.write(chunk)"
   ]
  },
  {
   "cell_type": "code",
   "execution_count": null,
   "id": "e8bfcc8a",
   "metadata": {},
   "outputs": [],
   "source": []
  }
 ],
 "metadata": {
  "kernelspec": {
   "display_name": "Python 3",
   "language": "python",
   "name": "python3"
  },
  "language_info": {
   "codemirror_mode": {
    "name": "ipython",
    "version": 3
   },
   "file_extension": ".py",
   "mimetype": "text/x-python",
   "name": "python",
   "nbconvert_exporter": "python",
   "pygments_lexer": "ipython3",
   "version": "3.9.6"
  }
 },
 "nbformat": 4,
 "nbformat_minor": 5
}
