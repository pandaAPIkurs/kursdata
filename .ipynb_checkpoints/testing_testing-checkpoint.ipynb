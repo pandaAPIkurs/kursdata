{
 "cells": [
  {
   "cell_type": "code",
   "execution_count": null,
   "id": "43758344",
   "metadata": {},
   "outputs": [],
   "source": [
    "import requests # Bibliotek som håndterer spørringer\n",
    "import ast # Leser en tekstfil med spørringen til json format\n",
    "import os # Sets up folders and paths\n",
    "import json\n",
    "from pyjstat import pyjstat"
   ]
  },
  {
   "cell_type": "code",
   "execution_count": null,
   "id": "44866374",
   "metadata": {},
   "outputs": [],
   "source": [
    "url = r'https://data.ssb.no/api/v0/no/table/07459'\n",
    "qjson = r'spørringer/07459.json'\n",
    "qtext = r\"spørringer/07459.txt\""
   ]
  },
  {
   "cell_type": "code",
   "execution_count": null,
   "id": "d31f8835",
   "metadata": {},
   "outputs": [],
   "source": [
    "with open(qtext, \"r\") as file:\n",
    "    json_query = ast.literal_eval(file.read())"
   ]
  },
  {
   "cell_type": "code",
   "execution_count": null,
   "id": "70501f98",
   "metadata": {},
   "outputs": [],
   "source": [
    "with open(qjson) as jsonfile:  \n",
    "    json_query = json.load(jsonfile)"
   ]
  },
  {
   "cell_type": "code",
   "execution_count": null,
   "id": "fd402e1c",
   "metadata": {},
   "outputs": [],
   "source": [
    "x = requests.post(url, json=json_query)"
   ]
  },
  {
   "cell_type": "code",
   "execution_count": null,
   "id": "e897e510",
   "metadata": {},
   "outputs": [],
   "source": [
    "x.status_code"
   ]
  },
  {
   "cell_type": "code",
   "execution_count": null,
   "id": "7bb2c44e",
   "metadata": {},
   "outputs": [],
   "source": [
    "x.text"
   ]
  },
  {
   "cell_type": "code",
   "execution_count": null,
   "id": "97cdfefc",
   "metadata": {},
   "outputs": [],
   "source": [
    "# Les til json-stat2 format fra spørring\n",
    "ds = pyjstat.Dataset.read(x.text)"
   ]
  },
  {
   "cell_type": "code",
   "execution_count": null,
   "id": "be7fc12b",
   "metadata": {},
   "outputs": [],
   "source": [
    "df = ds.write('dataframe')"
   ]
  },
  {
   "cell_type": "code",
   "execution_count": null,
   "id": "7c7e8ed5",
   "metadata": {},
   "outputs": [],
   "source": [
    "df.head()"
   ]
  },
  {
   "cell_type": "code",
   "execution_count": null,
   "id": "137047e0",
   "metadata": {},
   "outputs": [],
   "source": [
    "with open('07459_1.csv', 'wb') as fd:\n",
    "    for chunk in x.iter_content(chunk_size=128):\n",
    "        fd.write(chunk)"
   ]
  },
  {
   "cell_type": "markdown",
   "id": "98116763",
   "metadata": {},
   "source": [
    "## Den siste cellen er ikke en del av programmet"
   ]
  },
  {
   "cell_type": "code",
   "execution_count": null,
   "id": "b17cde36",
   "metadata": {},
   "outputs": [],
   "source": [
    "%load_ext watermark\n",
    "\n",
    "# python, ipython, packages, and machine characteristics\n",
    "%watermark -v -m -p pyjstat,watermark \n",
    "\n",
    "# date\n",
    "print (\" \")\n",
    "%watermark -u -n -t -z"
   ]
  }
 ],
 "metadata": {
  "kernelspec": {
   "display_name": "Python 3",
   "language": "python",
   "name": "python3"
  },
  "language_info": {
   "codemirror_mode": {
    "name": "ipython",
    "version": 3
   },
   "file_extension": ".py",
   "mimetype": "text/x-python",
   "name": "python",
   "nbconvert_exporter": "python",
   "pygments_lexer": "ipython3",
   "version": "3.9.6"
  }
 },
 "nbformat": 4,
 "nbformat_minor": 5
}
