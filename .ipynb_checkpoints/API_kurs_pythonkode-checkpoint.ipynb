{
 "cells": [
  {
   "cell_type": "markdown",
   "id": "9283846c",
   "metadata": {},
   "source": [
    "# Introduksjon\n",
    "\n",
    "I denne delen av kurset bruker vi Python for å utveksle informasjon med SSBs API. Python er et meget nyttig språk for datahåndtering og automatisering av dataflyt. Særlig hvis man skal innom flere programmer med dataene kan python være en fordel."
   ]
  },
  {
   "cell_type": "markdown",
   "id": "fd300792",
   "metadata": {},
   "source": [
    "## Steg 1\n",
    "\n",
    "Python består av mange ulike forhåndsprogrammerte funksjoner som brukere kan sette sammen slik de ønsker for å dekke sine behov. Disse funksjonene er gjerne samlet i biblioteker som enten er med i grunnpakken til Python ([python.org](https://www.python.org/)) eller i andre installasjoner som for eksempel [miniconda](https://docs.conda.io/en/latest/miniconda.html) eller [Anaconda](https://www.anaconda.com/). \n",
    "\n",
    "Mange velger å bruke Anaconda siden det stort sett sikrer at alt virker når man oppdaterer programvaren. Jeg liker å bruke miniconda - det er en lettvektsversjon av anaconda som tar mindre plass, men krever litt mer av brukeren.\n"
   ]
  },
  {
   "cell_type": "code",
   "execution_count": null,
   "id": "7aaf5471",
   "metadata": {},
   "outputs": [],
   "source": [
    "import requests # Bibliotek som håndterer spørringer\n",
    "import ast # Leser en tekstfil med spørringen til json format\n",
    "import os # Sets up folders and paths\n",
    "import json # Håndterer JSON format for å lese spørringen"
   ]
  },
  {
   "cell_type": "markdown",
   "id": "654d0561",
   "metadata": {},
   "source": [
    "## Steg 2\n",
    "\n",
    "Etter å ha importert de nødvendige modulene definerer vi noen variabler hvor vi lagrer filbane til spørringer, tabell ID og URL til selve programmet. Dette gjør det enklere å endre disse parameterene senere uten å måtte endre den delen av programmet som utfører selve transaksjonen med APIet.\n",
    "\n",
    "I dette kurset skal vi bare sende én spørring. Dette kan også settes opp for å gå igjennom en rekke spørringer for å vedlikeholde ett oppdatert fillager.\n",
    "\n",
    "Her må vi skrive inn filbaner og tabell id i kodevinduet og kjøre cellen ved å trykke Shift + Enter."
   ]
  },
  {
   "cell_type": "code",
   "execution_count": null,
   "id": "ebe67ec6",
   "metadata": {},
   "outputs": [],
   "source": [
    "# TabellID frå SSB - APIet brukar tabellID for å sende spørjinga til rett stad hjå SSB.\n",
    "tabellid = \"\"\n",
    "\n",
    "# Filbane til spørringen\n",
    "qDir = r\"\"\n",
    "\n",
    "# Filbane der datafila skal lagrast\n",
    "outDir = r\"\"\n",
    "\n",
    "url = 'https://data.ssb.no/api/v0/no/table/' + tabellid"
   ]
  },
  {
   "cell_type": "markdown",
   "id": "37ffb213",
   "metadata": {},
   "source": [
    "Etter å ha definert hvor ting er og hvor ting skal"
   ]
  },
  {
   "cell_type": "code",
   "execution_count": null,
   "id": "50b08b14",
   "metadata": {},
   "outputs": [],
   "source": [
    "# Les query som json\n",
    "with open(query, \"r\") as file:\n",
    "    contents = file.read()\n",
    "    json_query = ast.literal_eval(contents)"
   ]
  },
  {
   "cell_type": "code",
   "execution_count": null,
   "id": "99f113e0",
   "metadata": {},
   "outputs": [],
   "source": [
    "print(\"Leser Spørring\\n\")\n",
    "# Request - response\n",
    "x = requests.post(url, json=json_query)\n",
    "print(\"Sender spørring\\n\")"
   ]
  },
  {
   "cell_type": "markdown",
   "id": "f5d05544",
   "metadata": {},
   "source": [
    "## Steg 3\n",
    "\n",
    "Til slutt vil vi gjerne lagre filen i vårt fillager. Da bruker vi metoden response.iter_content() som går igjennom responsteksten uten å bruke for mye minne. Dette skrives så til en .csv fil. Her er det fullt mulig å skrive til andre formater også. Mer om det senere.\n",
    "\n",
    "I første omgang skriver vi det enkelt til en .csv fil."
   ]
  },
  {
   "cell_type": "code",
   "execution_count": null,
   "id": "b4be92ba",
   "metadata": {},
   "outputs": [],
   "source": []
  },
  {
   "cell_type": "code",
   "execution_count": null,
   "id": "a7bebd21",
   "metadata": {},
   "outputs": [],
   "source": [
    "print(\"Skriver {}.csv til felles filområde\".format(tabellid))\n",
    "# Skriv innhold til csv fil (teams)\n",
    "with open(os.path.join(outDir, tabellid + '.csv'), 'wb') as fd:\n",
    "    for chunk in x.iter_content(chunk_size=128):\n",
    "        fd.write(chunk)"
   ]
  }
 ],
 "metadata": {
  "kernelspec": {
   "display_name": "Python 3",
   "language": "python",
   "name": "python3"
  },
  "language_info": {
   "codemirror_mode": {
    "name": "ipython",
    "version": 3
   },
   "file_extension": ".py",
   "mimetype": "text/x-python",
   "name": "python",
   "nbconvert_exporter": "python",
   "pygments_lexer": "ipython3",
   "version": "3.9.6"
  }
 },
 "nbformat": 4,
 "nbformat_minor": 5
}
