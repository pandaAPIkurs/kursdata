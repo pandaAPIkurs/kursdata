{
 "cells": [
  {
   "cell_type": "markdown",
   "id": "538088cf",
   "metadata": {},
   "source": [
    "# Introduksjon\n",
    "\n",
    "I denne delen av kurset bruker vi Python for å utveksle informasjon med SSBs API. Python er et meget nyttig språk for datahåndtering og automatisering av dataflyt. Særlig hvis man skal innom flere programmer med dataene kan python være en fordel. Jupyter notebooks er et veldig nyttig verktøy for å lære seg arbeidsflyten i en slik prosess. Gå gjerne igjennom *en kort introduksjon til Jupyter* før du starter her."
   ]
  },
  {
   "cell_type": "markdown",
   "id": "f5c08f97",
   "metadata": {},
   "source": [
    "## Steg 1\n",
    "\n",
    "Python består av mange ulike forhåndsprogrammerte funksjoner som brukere kan sette sammen slik de ønsker for å dekke sine behov. Disse funksjonene er gjerne samlet i biblioteker som enten er med i grunnpakken til Python ([python.org](https://www.python.org/)) eller i andre installasjoner som for eksempel [miniconda](https://docs.conda.io/en/latest/miniconda.html) eller [Anaconda](https://www.anaconda.com/). \n",
    "\n",
    "Mange velger å bruke Anaconda siden det stort sett sikrer at alt virker når man oppdaterer programvaren. Jeg liker å bruke miniconda - det er en lettvektsversjon av anaconda som tar mindre plass, men krever litt mer av brukeren.\n"
   ]
  },
  {
   "cell_type": "code",
   "execution_count": null,
   "id": "5c3816e5",
   "metadata": {},
   "outputs": [],
   "source": [
    "import requests # Bibliotek som håndterer spørringer\n",
    "import ast # Leser en tekstfil med spørringen til json format\n",
    "import os # Sets up folders and paths\n",
    "import json # Håndterer JSON format for å lese spørringen\n",
    "\n",
    "from pyjstat import pyjstat"
   ]
  },
  {
   "cell_type": "markdown",
   "id": "5d2cc451",
   "metadata": {},
   "source": [
    "## Steg 2\n",
    "\n",
    "Etter å ha importert de nødvendige modulene definerer vi noen variabler hvor vi lagrer filbane til spørringer, tabell ID og URL til selve programmet. Dette gjør det enklere å endre disse parameterene senere uten å måtte endre den delen av programmet som utfører selve transaksjonen med APIet.\n",
    "\n",
    "I dette kurset skal vi bare sende én spørring. Dette kan også settes opp for å gå igjennom en rekke spørringer for å vedlikeholde ett oppdatert fillager.\n",
    "\n",
    "Her må vi skrive inn filbaner og tabell id i kodevinduet og kjøre cellen ved å trykke Shift + Enter."
   ]
  },
  {
   "cell_type": "code",
   "execution_count": null,
   "id": "a1fa3223",
   "metadata": {},
   "outputs": [],
   "source": [
    "# TabellID frå SSB - APIet brukar tabellID for å sende spørjinga til rett stad hjå SSB.\n",
    "tabellid = \"\"\n",
    "\n",
    "# Filbane til spørringen\n",
    "qDir = r\"\"\n",
    "\n",
    "# Filbane der datafila skal lagrast\n",
    "outDir = r\"\"\n",
    "\n",
    "url = 'https://data.ssb.no/api/v0/no/table/' + tabellid"
   ]
  },
  {
   "cell_type": "markdown",
   "id": "26196b64",
   "metadata": {},
   "source": [
    "Etter å ha definert hvor ting er og hvor ting skal"
   ]
  },
  {
   "cell_type": "code",
   "execution_count": null,
   "id": "af167541",
   "metadata": {},
   "outputs": [],
   "source": [
    "# Les query som json\n",
    "with open(query, \"r\") as file:\n",
    "    contents = file.read()\n",
    "    json_query = ast.literal_eval(contents)"
   ]
  },
  {
   "cell_type": "code",
   "execution_count": null,
   "id": "33f6e708",
   "metadata": {},
   "outputs": [],
   "source": [
    "print(\"Leser Spørring\\n\")\n",
    "# Request - response\n",
    "x = requests.post(url, json=json_query)\n",
    "print(\"Sender spørring\\n\")"
   ]
  },
  {
   "cell_type": "markdown",
   "id": "b56c8c73",
   "metadata": {},
   "source": [
    "Nå vi har sendt spørringen kan vi sjekke status. Status koder 2xx betyr vanligvis at alt har gått fint. 4xx betyr at det er en feil på klientsiden (vi har gjort en feil). Det kan for eksempel være syntaksfeil i spørringen (et glemt komma for eksempel). 5xx betyr at det er en feil på serversiden (altså at det er et problem på leverandørsiden). For mer informasjon om statuskoder kan du lese [her](https://developer.mozilla.org/en-US/docs/Web/HTTP/Status)"
   ]
  },
  {
   "cell_type": "code",
   "execution_count": null,
   "id": "077f7f7d",
   "metadata": {},
   "outputs": [],
   "source": [
    "x.status"
   ]
  },
  {
   "cell_type": "markdown",
   "id": "7817cd31",
   "metadata": {},
   "source": [
    "Vi kan også se hva som står i respons body, altså se den teksten vi fikk i svar på spørringen:"
   ]
  },
  {
   "cell_type": "code",
   "execution_count": null,
   "id": "455a7c1e",
   "metadata": {},
   "outputs": [],
   "source": [
    "x.text"
   ]
  },
  {
   "cell_type": "markdown",
   "id": "ccb270db",
   "metadata": {},
   "source": [
    "## Steg 3\n",
    "\n",
    "Til slutt vil vi gjerne lagre filen i vårt fillager. Da bruker vi metoden response.iter_content() som går igjennom responsteksten uten å bruke for mye minne. Dette skrives så til en .csv fil. Her er det fullt mulig å skrive til andre formater også. Mer om det senere.\n",
    "\n",
    "I første omgang skriver vi det enkelt til en .csv fil."
   ]
  },
  {
   "cell_type": "code",
   "execution_count": null,
   "id": "4a07d4c5",
   "metadata": {},
   "outputs": [],
   "source": [
    "# Les til json-stat2 format fra spørring\n",
    "ds = pyjstat.Dataset.read(x.text)"
   ]
  },
  {
   "cell_type": "code",
   "execution_count": null,
   "id": "73a1a9aa",
   "metadata": {},
   "outputs": [],
   "source": [
    "df = ds.write('dataframe')"
   ]
  },
  {
   "cell_type": "code",
   "execution_count": null,
   "id": "9aa9ca04",
   "metadata": {},
   "outputs": [],
   "source": [
    "df.head()"
   ]
  },
  {
   "cell_type": "code",
   "execution_count": null,
   "id": "5fa91a71",
   "metadata": {},
   "outputs": [],
   "source": [
    "print(\"Skriver {}.csv til felles filområde\".format(tabellid))\n",
    "# Skriv innhold til csv fil (teams)\n",
    "with open(os.path.join(outDir, tabellid + '.csv'), 'wb') as fd:\n",
    "    for chunk in x.iter_content(chunk_size=128):\n",
    "        fd.write(chunk)"
   ]
  }
 ],
 "metadata": {
  "kernelspec": {
   "display_name": "Python 3",
   "language": "python",
   "name": "python3"
  },
  "language_info": {
   "codemirror_mode": {
    "name": "ipython",
    "version": 3
   },
   "file_extension": ".py",
   "mimetype": "text/x-python",
   "name": "python",
   "nbconvert_exporter": "python",
   "pygments_lexer": "ipython3",
   "version": "3.8.5"
  }
 },
 "nbformat": 4,
 "nbformat_minor": 5
}
