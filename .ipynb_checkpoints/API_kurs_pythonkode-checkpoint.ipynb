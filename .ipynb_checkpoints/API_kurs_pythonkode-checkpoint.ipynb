{
 "cells": [
  {
   "cell_type": "markdown",
   "id": "9283846c",
   "metadata": {},
   "source": [
    "# Introduksjon\n",
    "\n",
    "I denne delen av kurset bruker vi Python for å kommunisere med SSBs API. Python er et meget nyttig språk for datahåndtering og automatisering av dataflyt. Det blir mer og mer vanlig at programmer har egne APIer som lar brukere nyttigjøre seg av programmets funksjoner via python."
   ]
  },
  {
   "cell_type": "markdown",
   "id": "fd300792",
   "metadata": {},
   "source": [
    "## Steg 1\n",
    "\n",
    "Python består av mange ulike forhåndsprogrammerte funksjoner som brukere kan sette sammen slik de ønsker for å dekke sine behov. Disse funksjonene er gjerne samlet i biblioteker som enten er med i grunnpakken til Python ([python.org](https://www.python.org/)) eller i andre installasjoner som for eksempel [miniconda](https://docs.conda.io/en/latest/miniconda.html) eller [Anaconda](https://www.anaconda.com/). \n",
    "\n",
    "Mange velger å bruke Anaconda siden det stort sett sikrer at alt virker når man oppdaterer programvaren. Jeg liker å bruke miniconda - det er en lettvektsversjon av anaconda som tar mindre plass, men krever litt mer av brukeren.\n"
   ]
  },
  {
   "cell_type": "code",
   "execution_count": null,
   "id": "7aaf5471",
   "metadata": {},
   "outputs": [],
   "source": [
    "import requests # Bibliotek som håndterer spørringer\n",
    "import ast # Leser en tekstfil med spørringen til json format\n",
    "import os # Sets up folders and paths"
   ]
  },
  {
   "cell_type": "markdown",
   "id": "654d0561",
   "metadata": {},
   "source": [
    "## Steg 2\n",
    "\n",
    "Etter å ha importert de nødvendige modulene definerer vi noen variabler hvor vi lagrer filbane til spørringer, tabell ID og URL til selve programmet. Dette gjør det enklere å endre disse parameterene senere uten å måtte endre den delen av programmet som utfører selve transaksjonen med APIet.\n",
    "\n",
    "I dette kurset skal vi bare sende én spørring. Dette kan også settes opp for å gå igjennom en rekke spørringer. Det må bli i et senere kurs. Men en forutsetning for at det skal bli effektivt er å bruke variabler, derfor gjør vi også det i dette kurset."
   ]
  },
  {
   "cell_type": "code",
   "execution_count": null,
   "id": "ebe67ec6",
   "metadata": {},
   "outputs": [],
   "source": [
    "# TabellID frå SSB - APIet brukar tabellID for å sende spørjinga til rett stad hjå SSB.\n",
    "tabellid = \"\"\n",
    "\n",
    "# Filbane til spørringen\n",
    "qDir = r\"\"\n",
    "\n",
    "# Filbane der datafila skal lagrast\n",
    "outDir = r\"\"\n",
    "\n",
    "url = 'https://data.ssb.no/api/v0/no/table/' + tabellid"
   ]
  },
  {
   "cell_type": "markdown",
   "id": "7747131f",
   "metadata": {},
   "source": [
    "### Refleksjoner:\n",
    "\n",
    "* Hva skjer om vi endrer:\n",
    "    - \"tabellid\"\n",
    "    - \"qDir\""
   ]
  },
  {
   "cell_type": "code",
   "execution_count": null,
   "id": "99f113e0",
   "metadata": {},
   "outputs": [],
   "source": [
    "# Les query som json\n",
    "with open(query, \"r\") as file:\n",
    "    contents = file.read()\n",
    "    json_query = ast.literal_eval(contents)\n",
    "print(\"Leser Spørring\\n\")\n",
    "# Request - response\n",
    "x = requests.post(url, json=json_query)\n",
    "print(\"Sender spørring\\n\")"
   ]
  },
  {
   "cell_type": "code",
   "execution_count": null,
   "id": "a7bebd21",
   "metadata": {},
   "outputs": [],
   "source": [
    "print(\"Skriver {}.csv til felles filområde\".format(tabellid))\n",
    "# Skriv innhold til csv fil (teams)\n",
    "with open(os.path.join(teamsDir, tabellid + '.csv'), 'wb') as fd:\n",
    "    for chunk in x.iter_content(chunk_size=128):\n",
    "        fd.write(chunk)"
   ]
  }
 ],
 "metadata": {
  "kernelspec": {
   "display_name": "Python 3",
   "language": "python",
   "name": "python3"
  },
  "language_info": {
   "codemirror_mode": {
    "name": "ipython",
    "version": 3
   },
   "file_extension": ".py",
   "mimetype": "text/x-python",
   "name": "python",
   "nbconvert_exporter": "python",
   "pygments_lexer": "ipython3",
   "version": "3.9.6"
  }
 },
 "nbformat": 4,
 "nbformat_minor": 5
}
