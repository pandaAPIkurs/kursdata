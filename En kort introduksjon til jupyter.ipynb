{
 "cells": [
  {
   "cell_type": "markdown",
   "id": "bf0b97a9",
   "metadata": {},
   "source": [
    "# En ekstremt kort introduksjon til Jupyter notebooks\n",
    "\n",
    "Denne guiden er ment å gi tilstrekkelig informasjon for å kunne bruke grunnleggende funksjoner i en jupyter notebook. For en grundigere innføring i Jupyter, se [dokumentasjon](https://jupyter-notebook.readthedocs.io/en/stable/)\n",
    "\n",
    "## Jupyter\n",
    "Jupyter er et miljø for interaktiv koding, dokumentering og reprodusering av rutiner og dataflyter/analyser. En notatbok er delt inn i celler som kan kjøres separat. Derfor er det veldig nyttig for prototyping, data science arbeidsflyter og ikke minst undervisning."
   ]
  },
  {
   "cell_type": "markdown",
   "id": "abdd1117",
   "metadata": {},
   "source": [
    " Cellene kan være bare tekst, slik som denne (markdown) og det kan være kode slik som den under. Celler med kode har alltid `In [ ]` på siden. Dette viser om og når koden i cellen har blitt kjørt."
   ]
  },
  {
   "cell_type": "code",
   "execution_count": null,
   "id": "f7290b39",
   "metadata": {},
   "outputs": [],
   "source": [
    "# Dette er en celle med kode. Står det et # tegn foran, er det kommentar til kode\n",
    "# Du kan kjøre cellen ved å trykke Ctrl + enter\n",
    "\n",
    "print(\"Hello world!\")"
   ]
  },
  {
   "cell_type": "markdown",
   "id": "a95baa81",
   "metadata": {},
   "source": [
    "## Edit mode og command mode\n",
    "\n",
    "Når en celle er aktiv har den enten en grønn ramme eller en blå ramme. Grønn betyr at vi er i *edit mode* eller redigeringsmodus. Da kan vi skrive kode eller tekst inn i cellen. Blå betyr at man er i *command mode*. Da kan man navigere mellom celler, lage nye celler og ellers administrere notatboken på et overordnet nivå.\n",
    "\n",
    "Får å gå fra *command mode* til *edit mode* trykker man enter når cellen er aktiv (blå ramme). For å gå tilbake til *command mode* trykker man på `Esc`.\n",
    "\n",
    "## Nye celler\n",
    "\n",
    "Med denne cellen aktiv og i *command mode* kan du nå trykke på `b` for å lage en ny celle under (for å lage ny celle over er det `a` i command mode). Aktiver cellen og gå inn i *edit mode* og skriv inn et regnestykke - for eksempel `7 * 6`. Gå ut av redigeringsmodus og kjør cellen med `shift + enter` (da aktiveres neste celle etter at den aktive er kjørt, med `ctrl + enter` kjører man cellen og blir) "
   ]
  },
  {
   "cell_type": "markdown",
   "id": "3b0b23b1",
   "metadata": {},
   "source": [
    "## Redigere en eksisterende celle\n",
    "\n",
    "Sørg for at du er i command mode og gå til neste celle. Skift til edit mode og endre teksten til `print(\"Hei verden!\")`. \n",
    "\n",
    "Trykk så på Esc for å gå ut av redigeringsmodus. Trykk så `ctrl + enter` for å kjøre cellen. Da skal det dukke opp et vindu under som printer teksten (Hei verden!) til konsollen."
   ]
  },
  {
   "cell_type": "code",
   "execution_count": null,
   "id": "d206e77c",
   "metadata": {},
   "outputs": [],
   "source": [
    "print(\"Hello world!\")"
   ]
  },
  {
   "cell_type": "markdown",
   "id": "4fcf5326",
   "metadata": {},
   "source": [
    "Når du har kjørt cellen dukker det opp et tall til venstre `[1]`. Dette betyr at dette er den første cellen som er kjørt. Hvis cellen tar en stund å kjøre ser man det ved at det står `[*]`. Da bør man vente til den cellen har kjørt, før man kjører den neste. Kjør cellen under (`Ctrl + enter`) og følg med hva som skjer i `In [ ]`."
   ]
  },
  {
   "cell_type": "code",
   "execution_count": null,
   "id": "4ba4f8fa",
   "metadata": {},
   "outputs": [],
   "source": [
    "import time # Her importeres en pakke som har noen funksjoner knyttet til tid\n",
    "\n",
    "time.sleep(5)"
   ]
  },
  {
   "cell_type": "markdown",
   "id": "6a2309a0",
   "metadata": {},
   "source": [
    "Programmet over skriver ingenting til konsollen. Det bare venter i tre sekunder."
   ]
  },
  {
   "cell_type": "markdown",
   "id": "30b029ee",
   "metadata": {},
   "source": [
    "Dette er alt vi trenger i denne omgang. Nå har du lært hvordan man redigerer celler og hvordan man kjører celler. Det er alt vi trenger for resten av kurset."
   ]
  }
 ],
 "metadata": {
  "kernelspec": {
   "display_name": "Python 3",
   "language": "python",
   "name": "python3"
  },
  "language_info": {
   "codemirror_mode": {
    "name": "ipython",
    "version": 3
   },
   "file_extension": ".py",
   "mimetype": "text/x-python",
   "name": "python",
   "nbconvert_exporter": "python",
   "pygments_lexer": "ipython3",
   "version": "3.9.6"
  }
 },
 "nbformat": 4,
 "nbformat_minor": 5
}
