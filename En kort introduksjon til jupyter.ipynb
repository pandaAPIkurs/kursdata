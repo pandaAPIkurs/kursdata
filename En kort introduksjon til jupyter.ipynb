{
 "cells": [
  {
   "attachments": {},
   "cell_type": "markdown",
   "id": "3b0b23b1",
   "metadata": {},
   "source": [
    "# En kort introduksjon til Jupyter notebooks\n",
    "\n",
    "Denne guiden er ment å gi tilstrekkelig informasjon for å kunne bruke grunnleggende funksjoner i en jupyter notebook. For en grundigere innføring i Jupyter, se [dokumentasjon](https://jupyter-notebook.readthedocs.io/en/stable/)\n",
    "\n",
    "## Jupyter\n",
    "Jupyter er et miljø for interaktiv koding og dokumentering av rutiner. En notatbok er delt inn i celler som kan kjøres separat. Derfor er det veldig nyttig for prototyping, data science arbeidsflyter og ikke minst undervising.\n",
    " \n",
    "Cellene kan være bare tekst, slik som denne (markdown) og det kan være kode slik som den under.\n",
    "\n",
    "For å skrive inn i en celle må vi klikke (av og til dobbelklikke) inne i cellen for å aktivere redigeringsmodus - du kan trykke inne i denne cellen og endre teksten. Den vertikale stripen til venstre for cellen vil da bli grønn. Du kan også markere cellen (da har den en blå vertikal stripe på venstre side) og trykke på enter for å gå til redigeringsmodus. \n",
    "\n",
    "For å kjøre en celle kan vi enten markere en celle og trykke på play-knappen i menylinjen helt oppe, eller vi kan bruke noen tastekombinasjoner. For å kjøre den markerte cellen og så hoppe til neste trykker man Shift + enter. For å kjøre cellen uten å skifte celle trykker man Ctrl + enter.\n",
    "\n",
    "I neste celle kan du endre teksten til `print(\"Hei verden!\")`. Trykk så på Esc for å gå ut av redigeringsmodus. Trykk så Ctrl + enter for å kjøre cellen. Da skal det dukke opp et vindu under som printer teksten (Hei verden!) til konsollen.\n"
   ]
  },
  {
   "cell_type": "code",
   "execution_count": null,
   "id": "d206e77c",
   "metadata": {},
   "outputs": [],
   "source": [
    "print(\"Hello world!\")"
   ]
  },
  {
   "cell_type": "markdown",
   "id": "4fcf5326",
   "metadata": {},
   "source": [
    "Når du har kjørt cellen dukker det opp et tall til venstre `[1]`. Dette betyr at dette er den første cellen som er kjørt. Hvis cellen tar en stund å kjøre ser man det ved at det står `[*]`. Da bør man vente til den cellen har kjørt, før man kjører den neste. Kjør cellen under (Ctrl + enter) og følg med hva som skjer i `[]`."
   ]
  },
  {
   "cell_type": "code",
   "execution_count": null,
   "id": "4ba4f8fa",
   "metadata": {},
   "outputs": [],
   "source": [
    "import time # Her importeres en pakke som har noen funksjoner knyttet til tid\n",
    "\n",
    "time.sleep(3)"
   ]
  },
  {
   "cell_type": "markdown",
   "id": "6a2309a0",
   "metadata": {},
   "source": [
    "Programmet over skriver ingenting til konsollen. Det bare venter i tre sekunder."
   ]
  },
  {
   "cell_type": "markdown",
   "id": "ccabf8d3",
   "metadata": {},
   "source": [
    "For å lage nye celler kan vi enten velge `Insert` fra menyen oppe, trykke `b` for ny celle under den som er aktiv, eller `a` for ny celle over den aktive."
   ]
  },
  {
   "cell_type": "markdown",
   "id": "30b029ee",
   "metadata": {},
   "source": [
    "Dette er alt vi trenger i denne omgang. Nå har du lært hvordan man redigerer celler og hvordan man kjører celler. Det er alt vi trenger for resten av kurset."
   ]
  },
  {
   "cell_type": "code",
   "execution_count": null,
   "id": "1f74510f",
   "metadata": {},
   "outputs": [],
   "source": []
  }
 ],
 "metadata": {
  "kernelspec": {
   "display_name": "Python 3",
   "language": "python",
   "name": "python3"
  },
  "language_info": {
   "codemirror_mode": {
    "name": "ipython",
    "version": 3
   },
   "file_extension": ".py",
   "mimetype": "text/x-python",
   "name": "python",
   "nbconvert_exporter": "python",
   "pygments_lexer": "ipython3",
   "version": "3.9.6"
  }
 },
 "nbformat": 4,
 "nbformat_minor": 5
}
