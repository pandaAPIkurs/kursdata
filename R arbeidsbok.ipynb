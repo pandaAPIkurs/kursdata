{
 "cells": [
  {
   "cell_type": "markdown",
   "id": "1f4292f4",
   "metadata": {},
   "source": [
    "Dette er en R notebook"
   ]
  }
 ],
 "metadata": {
  "kernelspec": {
   "display_name": "R",
   "language": "R",
   "name": "ir"
  },
  "language_info": {
   "codemirror_mode": "r",
   "file_extension": ".r",
   "mimetype": "text/x-r-source",
   "name": "R",
   "pygments_lexer": "r",
   "version": "3.6.1"
  }
 },
 "nbformat": 4,
 "nbformat_minor": 5
}
