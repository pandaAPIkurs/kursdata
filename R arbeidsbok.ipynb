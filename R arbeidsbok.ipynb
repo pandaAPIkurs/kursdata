{
 "cells": [
  {
   "cell_type": "markdown",
   "id": "496e82f2",
   "metadata": {},
   "source": [
    "# Eksempel i R"
   ]
  },
  {
   "cell_type": "markdown",
   "id": "c33ff143",
   "metadata": {},
   "source": [
    "## Intro til notatbøker\n",
    "\n",
    "- Jupyter notebooks \n",
    "- Kjør celle med ctrl + enter\n",
    " - Shift + enter for kjøre og gå til neste"
   ]
  },
  {
   "cell_type": "markdown",
   "id": "cfa2fe32",
   "metadata": {},
   "source": [
    "## Steg 1\n",
    "\n",
    "Først må vi hente inn modulene vi trenger i R\n",
    "\n",
    "Marker neste celle og trykk Shift + enter"
   ]
  },
  {
   "cell_type": "code",
   "execution_count": null,
   "id": "9ff45f92",
   "metadata": {},
   "outputs": [],
   "source": [
    "# Henter inn bibliotek\n",
    "\n",
    "library(httr) # Bibiotek for spørringer\n",
    "library(rjstat) # Bibliotek for håntering av json-stat formatet"
   ]
  },
  {
   "cell_type": "markdown",
   "id": "d8501ae5",
   "metadata": {},
   "source": [
    "## Steg 2\n",
    "\n",
    "Nå skal vi lage spørringen som består av URL (som peker mot applikasjonen som skal kjøre programmet) og spørringsteksten (som vi henter fra SSB)\n",
    "\n",
    "Her er det mulig å bytte ut spørring med egne spørringer. \n",
    "\n",
    "Husk: \n",
    "- bruke `'` i starten og slutten av spørringsteksten\n",
    "- endre tabellnummer i URL (de fem tallene på slutten) `'https://data.ssb.no/api/v0/no/table/11616/'`"
   ]
  },
  {
   "cell_type": "code",
   "execution_count": null,
   "id": "b4ea1171",
   "metadata": {},
   "outputs": [],
   "source": [
    "# Pendling\n",
    "\n",
    "url <-'https://data.ssb.no/api/v0/no/table/11616/'\n",
    "\n",
    "data <-\n",
    "'{\n",
    "  \"query\": [\n",
    "    {\n",
    "      \"code\": \"Region\",\n",
    "      \"selection\": {\n",
    "        \"filter\": \"all\",\n",
    "        \"values\": [\n",
    "          \"*\"\n",
    "        ]\n",
    "      }\n",
    "    },\n",
    "    {\n",
    "      \"code\": \"ContentsCode\",\n",
    "      \"selection\": {\n",
    "        \"filter\": \"item\",\n",
    "        \"values\": [\n",
    "          \"Innpendlere\",\n",
    "          \"Utpendlere\"\n",
    "        ]\n",
    "      }\n",
    "    },\n",
    "    {\n",
    "      \"code\": \"Tid\",\n",
    "      \"selection\": {\n",
    "        \"filter\": \"item\",\n",
    "        \"values\": [\n",
    "          \"2015\",\n",
    "          \"2016\",\n",
    "          \"2017\",\n",
    "          \"2018\",\n",
    "          \"2019\",\n",
    "          \"2020\"\n",
    "        ]\n",
    "      }\n",
    "    }\n",
    "  ],\n",
    "  \"response\": {\n",
    "    \"format\": \"json-stat2\"\n",
    "  }\n",
    "}'"
   ]
  },
  {
   "cell_type": "markdown",
   "id": "b72be7c4",
   "metadata": {},
   "source": [
    "## Steg 3\n",
    "\n",
    "Nå sender vi spørringen til SSB og mottar respons. Responsen vil bestå av de data vi har bestilt, dersom vi har gjort alt rett."
   ]
  },
  {
   "cell_type": "code",
   "execution_count": null,
   "id": "322fccd0",
   "metadata": {},
   "outputs": [],
   "source": [
    "temp <- POST(url , body = data, encode = \"json\", verbose())"
   ]
  },
  {
   "cell_type": "markdown",
   "id": "d02fcd04",
   "metadata": {},
   "source": [
    "Vi kan også sjekke metadata for respons:"
   ]
  },
  {
   "cell_type": "code",
   "execution_count": null,
   "id": "97eaf054",
   "metadata": {},
   "outputs": [],
   "source": [
    "print(temp)"
   ]
  },
  {
   "cell_type": "markdown",
   "id": "145ae93a",
   "metadata": {},
   "source": [
    "## Steg 4\n",
    "\n",
    "Når vi har fått status 200 kan vi se på datasettet vi har lastet ned. Prøv å skifte ut `naming = \"label\"` med `naming = \"label\"` og kjør cellen igjen. Hva skjer?"
   ]
  },
  {
   "cell_type": "code",
   "execution_count": null,
   "id": "92ef0127",
   "metadata": {},
   "outputs": [],
   "source": [
    "# Vi lagrer responsen til en variabel\n",
    "tabell <- fromJSONstat(content(temp, \"text\"), naming = \"id\", use_factors = F)\n",
    "\n",
    "# Vis de første radene av tabellen\n",
    "head(tabell)"
   ]
  },
  {
   "cell_type": "markdown",
   "id": "b802d633",
   "metadata": {},
   "source": [
    "## Steg 5\n",
    "\n",
    "Hvis vi vil lagre data i lokalt, kan vi skrive den til en tekstfil. Den vil lagres i samme mappe som dette skriptet ligger i. Det er også mulig å skrive inn en filbane på din maskin, dersom du vil prøve å lagre den. Hvis ikke kan den lastes ned fra menyen til venstre (under mappesymbolet)"
   ]
  },
  {
   "cell_type": "code",
   "execution_count": null,
   "id": "f16d84e7",
   "metadata": {},
   "outputs": [],
   "source": [
    "write.csv(tabell, \"11616.csv\")"
   ]
  },
  {
   "cell_type": "markdown",
   "id": "a84b0f9f",
   "metadata": {},
   "source": [
    "## Bonus - hent metadata for tabell"
   ]
  },
  {
   "cell_type": "code",
   "execution_count": null,
   "id": "3b7537ea",
   "metadata": {},
   "outputs": [],
   "source": [
    "content(temp)$updated # Viser når dataene sist ble oppdatert av SSB"
   ]
  },
  {
   "cell_type": "code",
   "execution_count": null,
   "id": "6d359ac9",
   "metadata": {},
   "outputs": [],
   "source": [
    "content(temp)$label # Viser tittelen på tabellen"
   ]
  },
  {
   "cell_type": "code",
   "execution_count": null,
   "id": "63674356",
   "metadata": {},
   "outputs": [],
   "source": [
    "content(temp)$source # Viser hvem som eier tabellen"
   ]
  }
 ],
 "metadata": {
  "kernelspec": {
   "display_name": "R",
   "language": "R",
   "name": "ir"
  },
  "language_info": {
   "codemirror_mode": "r",
   "file_extension": ".r",
   "mimetype": "text/x-r-source",
   "name": "R",
   "pygments_lexer": "r",
   "version": "3.6.1"
  }
 },
 "nbformat": 4,
 "nbformat_minor": 5
}
